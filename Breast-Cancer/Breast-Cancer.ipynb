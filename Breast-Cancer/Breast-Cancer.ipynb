{
 "cells": [
  {
   "cell_type": "markdown",
   "metadata": {},
   "source": [
    "## Base de dados sobre cancer ##\n",
    " \n",
    "O objetivo e trbalhar os conceitos iniciais sobre redes neurais e suas arquiteturas mais simples"
   ]
  },
  {
   "cell_type": "code",
   "execution_count": 1,
   "metadata": {},
   "outputs": [
    {
     "data": {
      "text/html": [
       "<div>\n",
       "<style scoped>\n",
       "    .dataframe tbody tr th:only-of-type {\n",
       "        vertical-align: middle;\n",
       "    }\n",
       "\n",
       "    .dataframe tbody tr th {\n",
       "        vertical-align: top;\n",
       "    }\n",
       "\n",
       "    .dataframe thead th {\n",
       "        text-align: right;\n",
       "    }\n",
       "</style>\n",
       "<table border=\"1\" class=\"dataframe\">\n",
       "  <thead>\n",
       "    <tr style=\"text-align: right;\">\n",
       "      <th></th>\n",
       "      <th>radius_mean</th>\n",
       "      <th>texture_mean</th>\n",
       "      <th>perimeter_mean</th>\n",
       "      <th>area_mean</th>\n",
       "      <th>smoothness_mean</th>\n",
       "      <th>compactness_mean</th>\n",
       "      <th>concavity_mean</th>\n",
       "      <th>concave_points_mean</th>\n",
       "      <th>symmetry_mean</th>\n",
       "      <th>fractal_dimension_mean</th>\n",
       "      <th>...</th>\n",
       "      <th>radius_worst</th>\n",
       "      <th>texture_worst</th>\n",
       "      <th>perimeter_worst</th>\n",
       "      <th>area_worst</th>\n",
       "      <th>smoothness_worst</th>\n",
       "      <th>compactness_worst</th>\n",
       "      <th>concavity_worst</th>\n",
       "      <th>concave_points_worst</th>\n",
       "      <th>symmetry_worst</th>\n",
       "      <th>fractal_dimension_worst</th>\n",
       "    </tr>\n",
       "  </thead>\n",
       "  <tbody>\n",
       "    <tr>\n",
       "      <th>0</th>\n",
       "      <td>17.99</td>\n",
       "      <td>10.38</td>\n",
       "      <td>122.80</td>\n",
       "      <td>1001.0</td>\n",
       "      <td>0.11840</td>\n",
       "      <td>0.27760</td>\n",
       "      <td>0.3001</td>\n",
       "      <td>0.14710</td>\n",
       "      <td>0.2419</td>\n",
       "      <td>0.07871</td>\n",
       "      <td>...</td>\n",
       "      <td>25.38</td>\n",
       "      <td>17.33</td>\n",
       "      <td>184.60</td>\n",
       "      <td>2019.0</td>\n",
       "      <td>0.1622</td>\n",
       "      <td>0.6656</td>\n",
       "      <td>0.7119</td>\n",
       "      <td>0.2654</td>\n",
       "      <td>0.4601</td>\n",
       "      <td>0.11890</td>\n",
       "    </tr>\n",
       "    <tr>\n",
       "      <th>1</th>\n",
       "      <td>20.57</td>\n",
       "      <td>17.77</td>\n",
       "      <td>132.90</td>\n",
       "      <td>1326.0</td>\n",
       "      <td>0.08474</td>\n",
       "      <td>0.07864</td>\n",
       "      <td>0.0869</td>\n",
       "      <td>0.07017</td>\n",
       "      <td>0.1812</td>\n",
       "      <td>0.05667</td>\n",
       "      <td>...</td>\n",
       "      <td>24.99</td>\n",
       "      <td>23.41</td>\n",
       "      <td>158.80</td>\n",
       "      <td>1956.0</td>\n",
       "      <td>0.1238</td>\n",
       "      <td>0.1866</td>\n",
       "      <td>0.2416</td>\n",
       "      <td>186.0000</td>\n",
       "      <td>275.0000</td>\n",
       "      <td>0.08902</td>\n",
       "    </tr>\n",
       "    <tr>\n",
       "      <th>2</th>\n",
       "      <td>19.69</td>\n",
       "      <td>21.25</td>\n",
       "      <td>130.00</td>\n",
       "      <td>1203.0</td>\n",
       "      <td>0.10960</td>\n",
       "      <td>0.15990</td>\n",
       "      <td>0.1974</td>\n",
       "      <td>0.12790</td>\n",
       "      <td>0.2069</td>\n",
       "      <td>0.05999</td>\n",
       "      <td>...</td>\n",
       "      <td>23.57</td>\n",
       "      <td>25.53</td>\n",
       "      <td>152.50</td>\n",
       "      <td>1709.0</td>\n",
       "      <td>0.1444</td>\n",
       "      <td>0.4245</td>\n",
       "      <td>0.4504</td>\n",
       "      <td>243.0000</td>\n",
       "      <td>0.3613</td>\n",
       "      <td>0.08758</td>\n",
       "    </tr>\n",
       "    <tr>\n",
       "      <th>3</th>\n",
       "      <td>11.42</td>\n",
       "      <td>20.38</td>\n",
       "      <td>77.58</td>\n",
       "      <td>386.1</td>\n",
       "      <td>0.14250</td>\n",
       "      <td>0.28390</td>\n",
       "      <td>0.2414</td>\n",
       "      <td>0.10520</td>\n",
       "      <td>0.2597</td>\n",
       "      <td>0.09744</td>\n",
       "      <td>...</td>\n",
       "      <td>14.91</td>\n",
       "      <td>26.50</td>\n",
       "      <td>98.87</td>\n",
       "      <td>567.7</td>\n",
       "      <td>0.2098</td>\n",
       "      <td>0.8663</td>\n",
       "      <td>0.6869</td>\n",
       "      <td>0.2575</td>\n",
       "      <td>0.6638</td>\n",
       "      <td>173.00000</td>\n",
       "    </tr>\n",
       "    <tr>\n",
       "      <th>4</th>\n",
       "      <td>20.29</td>\n",
       "      <td>14.34</td>\n",
       "      <td>135.10</td>\n",
       "      <td>1297.0</td>\n",
       "      <td>0.10030</td>\n",
       "      <td>0.13280</td>\n",
       "      <td>198.0000</td>\n",
       "      <td>0.10430</td>\n",
       "      <td>0.1809</td>\n",
       "      <td>0.05883</td>\n",
       "      <td>...</td>\n",
       "      <td>22.54</td>\n",
       "      <td>16.67</td>\n",
       "      <td>152.20</td>\n",
       "      <td>1575.0</td>\n",
       "      <td>0.1374</td>\n",
       "      <td>205.0000</td>\n",
       "      <td>0.4000</td>\n",
       "      <td>0.1625</td>\n",
       "      <td>0.2364</td>\n",
       "      <td>0.07678</td>\n",
       "    </tr>\n",
       "  </tbody>\n",
       "</table>\n",
       "<p>5 rows × 30 columns</p>\n",
       "</div>"
      ],
      "text/plain": [
       "    radius_mean   texture_mean   perimeter_mean   area_mean   smoothness_mean  \\\n",
       "0         17.99          10.38           122.80      1001.0           0.11840   \n",
       "1         20.57          17.77           132.90      1326.0           0.08474   \n",
       "2         19.69          21.25           130.00      1203.0           0.10960   \n",
       "3         11.42          20.38            77.58       386.1           0.14250   \n",
       "4         20.29          14.34           135.10      1297.0           0.10030   \n",
       "\n",
       "    compactness_mean   concavity_mean  concave_points_mean   symmetry_mean  \\\n",
       "0            0.27760           0.3001              0.14710          0.2419   \n",
       "1            0.07864           0.0869              0.07017          0.1812   \n",
       "2            0.15990           0.1974              0.12790          0.2069   \n",
       "3            0.28390           0.2414              0.10520          0.2597   \n",
       "4            0.13280         198.0000              0.10430          0.1809   \n",
       "\n",
       "    fractal_dimension_mean  ...   radius_worst   texture_worst  \\\n",
       "0                  0.07871  ...          25.38           17.33   \n",
       "1                  0.05667  ...          24.99           23.41   \n",
       "2                  0.05999  ...          23.57           25.53   \n",
       "3                  0.09744  ...          14.91           26.50   \n",
       "4                  0.05883  ...          22.54           16.67   \n",
       "\n",
       "    perimeter_worst   area_worst   smoothness_worst   compactness_worst  \\\n",
       "0            184.60       2019.0             0.1622              0.6656   \n",
       "1            158.80       1956.0             0.1238              0.1866   \n",
       "2            152.50       1709.0             0.1444              0.4245   \n",
       "3             98.87        567.7             0.2098              0.8663   \n",
       "4            152.20       1575.0             0.1374            205.0000   \n",
       "\n",
       "    concavity_worst   concave_points_worst   symmetry_worst  \\\n",
       "0            0.7119                 0.2654           0.4601   \n",
       "1            0.2416               186.0000         275.0000   \n",
       "2            0.4504               243.0000           0.3613   \n",
       "3            0.6869                 0.2575           0.6638   \n",
       "4            0.4000                 0.1625           0.2364   \n",
       "\n",
       "    fractal_dimension_worst  \n",
       "0                   0.11890  \n",
       "1                   0.08902  \n",
       "2                   0.08758  \n",
       "3                 173.00000  \n",
       "4                   0.07678  \n",
       "\n",
       "[5 rows x 30 columns]"
      ]
     },
     "execution_count": 1,
     "metadata": {},
     "output_type": "execute_result"
    }
   ],
   "source": [
    "import pandas as pd\n",
    "df_input = pd.read_csv('entradas-breast.csv')\n",
    "df_output = pd.read_csv('saidas-breast.csv')\n",
    "df_input.head()"
   ]
  },
  {
   "cell_type": "code",
   "execution_count": 2,
   "metadata": {},
   "outputs": [],
   "source": [
    "#separando entre camada de treino e teste \n",
    "from sklearn.model_selection import train_test_split\n",
    "X_train, X_test, y_train, y_test = train_test_split(\n",
    "    df_input, df_output, test_size=0.25)"
   ]
  },
  {
   "cell_type": "code",
   "execution_count": 3,
   "metadata": {},
   "outputs": [
    {
     "name": "stderr",
     "output_type": "stream",
     "text": [
      "Using TensorFlow backend.\n",
      "C:\\Users\\gvini\\Anaconda3\\envs\\deep-learning-env\\lib\\site-packages\\tensorflow\\python\\framework\\dtypes.py:516: FutureWarning: Passing (type, 1) or '1type' as a synonym of type is deprecated; in a future version of numpy, it will be understood as (type, (1,)) / '(1,)type'.\n",
      "  _np_qint8 = np.dtype([(\"qint8\", np.int8, 1)])\n",
      "C:\\Users\\gvini\\Anaconda3\\envs\\deep-learning-env\\lib\\site-packages\\tensorflow\\python\\framework\\dtypes.py:517: FutureWarning: Passing (type, 1) or '1type' as a synonym of type is deprecated; in a future version of numpy, it will be understood as (type, (1,)) / '(1,)type'.\n",
      "  _np_quint8 = np.dtype([(\"quint8\", np.uint8, 1)])\n",
      "C:\\Users\\gvini\\Anaconda3\\envs\\deep-learning-env\\lib\\site-packages\\tensorflow\\python\\framework\\dtypes.py:518: FutureWarning: Passing (type, 1) or '1type' as a synonym of type is deprecated; in a future version of numpy, it will be understood as (type, (1,)) / '(1,)type'.\n",
      "  _np_qint16 = np.dtype([(\"qint16\", np.int16, 1)])\n",
      "C:\\Users\\gvini\\Anaconda3\\envs\\deep-learning-env\\lib\\site-packages\\tensorflow\\python\\framework\\dtypes.py:519: FutureWarning: Passing (type, 1) or '1type' as a synonym of type is deprecated; in a future version of numpy, it will be understood as (type, (1,)) / '(1,)type'.\n",
      "  _np_quint16 = np.dtype([(\"quint16\", np.uint16, 1)])\n",
      "C:\\Users\\gvini\\Anaconda3\\envs\\deep-learning-env\\lib\\site-packages\\tensorflow\\python\\framework\\dtypes.py:520: FutureWarning: Passing (type, 1) or '1type' as a synonym of type is deprecated; in a future version of numpy, it will be understood as (type, (1,)) / '(1,)type'.\n",
      "  _np_qint32 = np.dtype([(\"qint32\", np.int32, 1)])\n",
      "C:\\Users\\gvini\\Anaconda3\\envs\\deep-learning-env\\lib\\site-packages\\tensorflow\\python\\framework\\dtypes.py:525: FutureWarning: Passing (type, 1) or '1type' as a synonym of type is deprecated; in a future version of numpy, it will be understood as (type, (1,)) / '(1,)type'.\n",
      "  np_resource = np.dtype([(\"resource\", np.ubyte, 1)])\n",
      "C:\\Users\\gvini\\Anaconda3\\envs\\deep-learning-env\\lib\\site-packages\\tensorboard\\compat\\tensorflow_stub\\dtypes.py:541: FutureWarning: Passing (type, 1) or '1type' as a synonym of type is deprecated; in a future version of numpy, it will be understood as (type, (1,)) / '(1,)type'.\n",
      "  _np_qint8 = np.dtype([(\"qint8\", np.int8, 1)])\n",
      "C:\\Users\\gvini\\Anaconda3\\envs\\deep-learning-env\\lib\\site-packages\\tensorboard\\compat\\tensorflow_stub\\dtypes.py:542: FutureWarning: Passing (type, 1) or '1type' as a synonym of type is deprecated; in a future version of numpy, it will be understood as (type, (1,)) / '(1,)type'.\n",
      "  _np_quint8 = np.dtype([(\"quint8\", np.uint8, 1)])\n",
      "C:\\Users\\gvini\\Anaconda3\\envs\\deep-learning-env\\lib\\site-packages\\tensorboard\\compat\\tensorflow_stub\\dtypes.py:543: FutureWarning: Passing (type, 1) or '1type' as a synonym of type is deprecated; in a future version of numpy, it will be understood as (type, (1,)) / '(1,)type'.\n",
      "  _np_qint16 = np.dtype([(\"qint16\", np.int16, 1)])\n",
      "C:\\Users\\gvini\\Anaconda3\\envs\\deep-learning-env\\lib\\site-packages\\tensorboard\\compat\\tensorflow_stub\\dtypes.py:544: FutureWarning: Passing (type, 1) or '1type' as a synonym of type is deprecated; in a future version of numpy, it will be understood as (type, (1,)) / '(1,)type'.\n",
      "  _np_quint16 = np.dtype([(\"quint16\", np.uint16, 1)])\n",
      "C:\\Users\\gvini\\Anaconda3\\envs\\deep-learning-env\\lib\\site-packages\\tensorboard\\compat\\tensorflow_stub\\dtypes.py:545: FutureWarning: Passing (type, 1) or '1type' as a synonym of type is deprecated; in a future version of numpy, it will be understood as (type, (1,)) / '(1,)type'.\n",
      "  _np_qint32 = np.dtype([(\"qint32\", np.int32, 1)])\n",
      "C:\\Users\\gvini\\Anaconda3\\envs\\deep-learning-env\\lib\\site-packages\\tensorboard\\compat\\tensorflow_stub\\dtypes.py:550: FutureWarning: Passing (type, 1) or '1type' as a synonym of type is deprecated; in a future version of numpy, it will be understood as (type, (1,)) / '(1,)type'.\n",
      "  np_resource = np.dtype([(\"resource\", np.ubyte, 1)])\n"
     ]
    }
   ],
   "source": [
    "#importando o keras e classes para a construção da RNA\n",
    "import keras\n",
    "from keras.models import Sequential \n",
    "from keras.layers import Dense\n"
   ]
  },
  {
   "cell_type": "code",
   "execution_count": 4,
   "metadata": {},
   "outputs": [],
   "source": [
    "#construindo a RNA\n",
    "#A classe sequntial é a base para construção de cada camada da rede\n",
    "classificador = Sequential()\n",
    "\n",
    "#adicionando a camada de entrada e a uma camada oculta \n",
    "classificador.add(Dense(units=16,activation='relu',\n",
    "kernel_initializer='random_uniform', input_dim=30\n",
    "))\n",
    "\n",
    "#perceba que a cama de entrada(inpute_dim) possui 30 neuronios de entrada \n",
    "#e a primeira camda oculta possui 16(units)\n",
    "\n",
    "#camada de saida com um neuronio(saida binaria)\n",
    "classificador.add(Dense(units=1, activation='sigmoid'))"
   ]
  },
  {
   "cell_type": "code",
   "execution_count": 5,
   "metadata": {},
   "outputs": [
    {
     "name": "stdout",
     "output_type": "stream",
     "text": [
      "WARNING:tensorflow:From C:\\Users\\gvini\\Anaconda3\\envs\\deep-learning-env\\lib\\site-packages\\tensorflow\\python\\ops\\nn_impl.py:180: add_dispatch_support.<locals>.wrapper (from tensorflow.python.ops.array_ops) is deprecated and will be removed in a future version.\n",
      "Instructions for updating:\n",
      "Use tf.where in 2.0, which has the same broadcast rule as np.where\n"
     ]
    }
   ],
   "source": [
    "#compilando as camadas da rede\n",
    "classificador.compile(optimizer='adam', loss='binary_crossentropy',metrics=['binary_accuracy'])"
   ]
  },
  {
   "cell_type": "code",
   "execution_count": 6,
   "metadata": {},
   "outputs": [
    {
     "name": "stdout",
     "output_type": "stream",
     "text": [
      "WARNING:tensorflow:From C:\\Users\\gvini\\Anaconda3\\envs\\deep-learning-env\\lib\\site-packages\\keras\\backend\\tensorflow_backend.py:422: The name tf.global_variables is deprecated. Please use tf.compat.v1.global_variables instead.\n",
      "\n",
      "Epoch 1/100\n",
      "426/426 [==============================] - 1s 2ms/step - loss: 13.8135 - binary_accuracy: 0.5704\n",
      "Epoch 2/100\n",
      "426/426 [==============================] - 0s 211us/step - loss: 3.1779 - binary_accuracy: 0.7418\n",
      "Epoch 3/100\n",
      "426/426 [==============================] - 0s 183us/step - loss: 0.5532 - binary_accuracy: 0.7840\n",
      "Epoch 4/100\n",
      "426/426 [==============================] - 0s 187us/step - loss: 0.5036 - binary_accuracy: 0.7911\n",
      "Epoch 5/100\n",
      "426/426 [==============================] - 0s 195us/step - loss: 0.3568 - binary_accuracy: 0.8545\n",
      "Epoch 6/100\n",
      "426/426 [==============================] - 0s 206us/step - loss: 0.3156 - binary_accuracy: 0.8545 0s - loss: 0.3448 - binary_accuracy: 0.846\n",
      "Epoch 7/100\n",
      "426/426 [==============================] - 0s 223us/step - loss: 0.2708 - binary_accuracy: 0.8685\n",
      "Epoch 8/100\n",
      "426/426 [==============================] - 0s 189us/step - loss: 0.2955 - binary_accuracy: 0.8638\n",
      "Epoch 9/100\n",
      "426/426 [==============================] - 0s 201us/step - loss: 0.7948 - binary_accuracy: 0.8075\n",
      "Epoch 10/100\n",
      "426/426 [==============================] - 0s 218us/step - loss: 1.0559 - binary_accuracy: 0.7887\n",
      "Epoch 11/100\n",
      "426/426 [==============================] - ETA: 0s - loss: 0.3910 - binary_accuracy: 0.867 - 0s 187us/step - loss: 0.4431 - binary_accuracy: 0.8685\n",
      "Epoch 12/100\n",
      "426/426 [==============================] - 0s 190us/step - loss: 0.5518 - binary_accuracy: 0.8286\n",
      "Epoch 13/100\n",
      "426/426 [==============================] - 0s 199us/step - loss: 0.2656 - binary_accuracy: 0.9061\n",
      "Epoch 14/100\n",
      "426/426 [==============================] - 0s 218us/step - loss: 0.2423 - binary_accuracy: 0.9061\n",
      "Epoch 15/100\n",
      "426/426 [==============================] - 0s 199us/step - loss: 0.4615 - binary_accuracy: 0.8357\n",
      "Epoch 16/100\n",
      "426/426 [==============================] - 0s 192us/step - loss: 0.2476 - binary_accuracy: 0.9108\n",
      "Epoch 17/100\n",
      "426/426 [==============================] - 0s 178us/step - loss: 0.3350 - binary_accuracy: 0.8662\n",
      "Epoch 18/100\n",
      "426/426 [==============================] - 0s 185us/step - loss: 0.2761 - binary_accuracy: 0.9038\n",
      "Epoch 19/100\n",
      "426/426 [==============================] - 0s 204us/step - loss: 0.2765 - binary_accuracy: 0.8967\n",
      "Epoch 20/100\n",
      "426/426 [==============================] - 0s 183us/step - loss: 0.3206 - binary_accuracy: 0.8873\n",
      "Epoch 21/100\n",
      "426/426 [==============================] - 0s 180us/step - loss: 0.3673 - binary_accuracy: 0.8685 0s - loss: 0.3433 - binary_accuracy: 0.875\n",
      "Epoch 22/100\n",
      "426/426 [==============================] - 0s 187us/step - loss: 0.2537 - binary_accuracy: 0.8991\n",
      "Epoch 23/100\n",
      "426/426 [==============================] - 0s 190us/step - loss: 0.2389 - binary_accuracy: 0.8991\n",
      "Epoch 24/100\n",
      "426/426 [==============================] - 0s 208us/step - loss: 0.3539 - binary_accuracy: 0.8873\n",
      "Epoch 25/100\n",
      "426/426 [==============================] - 0s 176us/step - loss: 0.4259 - binary_accuracy: 0.8545\n",
      "Epoch 26/100\n",
      "426/426 [==============================] - 0s 201us/step - loss: 0.2583 - binary_accuracy: 0.8944\n",
      "Epoch 27/100\n",
      "426/426 [==============================] - 0s 201us/step - loss: 0.3467 - binary_accuracy: 0.8709\n",
      "Epoch 28/100\n",
      "426/426 [==============================] - 0s 177us/step - loss: 0.4149 - binary_accuracy: 0.8803\n",
      "Epoch 29/100\n",
      "426/426 [==============================] - 0s 192us/step - loss: 0.4116 - binary_accuracy: 0.8803\n",
      "Epoch 30/100\n",
      "426/426 [==============================] - 0s 197us/step - loss: 0.2384 - binary_accuracy: 0.9108\n",
      "Epoch 31/100\n",
      "426/426 [==============================] - 0s 180us/step - loss: 0.2069 - binary_accuracy: 0.9061\n",
      "Epoch 32/100\n",
      "426/426 [==============================] - 0s 185us/step - loss: 0.2435 - binary_accuracy: 0.8897\n",
      "Epoch 33/100\n",
      "426/426 [==============================] - 0s 183us/step - loss: 0.3368 - binary_accuracy: 0.8779\n",
      "Epoch 34/100\n",
      "426/426 [==============================] - 0s 190us/step - loss: 0.2645 - binary_accuracy: 0.8873\n",
      "Epoch 35/100\n",
      "426/426 [==============================] - 0s 187us/step - loss: 0.5077 - binary_accuracy: 0.8310\n",
      "Epoch 36/100\n",
      "426/426 [==============================] - 0s 197us/step - loss: 0.3288 - binary_accuracy: 0.8991\n",
      "Epoch 37/100\n",
      "426/426 [==============================] - 0s 185us/step - loss: 0.3233 - binary_accuracy: 0.8803\n",
      "Epoch 38/100\n",
      "426/426 [==============================] - 0s 168us/step - loss: 0.2423 - binary_accuracy: 0.9108\n",
      "Epoch 39/100\n",
      "426/426 [==============================] - 0s 169us/step - loss: 0.2295 - binary_accuracy: 0.9178\n",
      "Epoch 40/100\n",
      "426/426 [==============================] - 0s 171us/step - loss: 0.7379 - binary_accuracy: 0.8122\n",
      "Epoch 41/100\n",
      "426/426 [==============================] - 0s 166us/step - loss: 0.3202 - binary_accuracy: 0.8850\n",
      "Epoch 42/100\n",
      "426/426 [==============================] - 0s 187us/step - loss: 0.2425 - binary_accuracy: 0.9178\n",
      "Epoch 43/100\n",
      "426/426 [==============================] - 0s 173us/step - loss: 0.2547 - binary_accuracy: 0.9155\n",
      "Epoch 44/100\n",
      "426/426 [==============================] - 0s 178us/step - loss: 0.2078 - binary_accuracy: 0.9225\n",
      "Epoch 45/100\n",
      "426/426 [==============================] - 0s 172us/step - loss: 0.2936 - binary_accuracy: 0.8920\n",
      "Epoch 46/100\n",
      "426/426 [==============================] - 0s 180us/step - loss: 0.2096 - binary_accuracy: 0.9178\n",
      "Epoch 47/100\n",
      "426/426 [==============================] - 0s 164us/step - loss: 0.2964 - binary_accuracy: 0.8920\n",
      "Epoch 48/100\n",
      "426/426 [==============================] - 0s 178us/step - loss: 0.2279 - binary_accuracy: 0.9178\n",
      "Epoch 49/100\n",
      "426/426 [==============================] - 0s 161us/step - loss: 0.2840 - binary_accuracy: 0.8920\n",
      "Epoch 50/100\n",
      "426/426 [==============================] - 0s 173us/step - loss: 0.3438 - binary_accuracy: 0.9014\n",
      "Epoch 51/100\n",
      "426/426 [==============================] - 0s 183us/step - loss: 0.3089 - binary_accuracy: 0.8920\n",
      "Epoch 52/100\n",
      "426/426 [==============================] - 0s 208us/step - loss: 0.2428 - binary_accuracy: 0.9085\n",
      "Epoch 53/100\n",
      "426/426 [==============================] - 0s 212us/step - loss: 0.1721 - binary_accuracy: 0.9390\n",
      "Epoch 54/100\n",
      "426/426 [==============================] - 0s 214us/step - loss: 0.4737 - binary_accuracy: 0.8615\n",
      "Epoch 55/100\n",
      "426/426 [==============================] - 0s 215us/step - loss: 0.2211 - binary_accuracy: 0.9249\n",
      "Epoch 56/100\n",
      "426/426 [==============================] - 0s 281us/step - loss: 0.2172 - binary_accuracy: 0.9155\n",
      "Epoch 57/100\n",
      "426/426 [==============================] - 0s 261us/step - loss: 0.2298 - binary_accuracy: 0.9108\n",
      "Epoch 58/100\n",
      "426/426 [==============================] - 0s 220us/step - loss: 0.6190 - binary_accuracy: 0.8474\n",
      "Epoch 59/100\n",
      "426/426 [==============================] - 0s 218us/step - loss: 0.2749 - binary_accuracy: 0.8991\n",
      "Epoch 60/100\n",
      "426/426 [==============================] - 0s 187us/step - loss: 0.2096 - binary_accuracy: 0.9202\n",
      "Epoch 61/100\n",
      "426/426 [==============================] - 0s 204us/step - loss: 0.2228 - binary_accuracy: 0.9155\n",
      "Epoch 62/100\n",
      "426/426 [==============================] - 0s 208us/step - loss: 0.2091 - binary_accuracy: 0.9225\n",
      "Epoch 63/100\n",
      "426/426 [==============================] - 0s 215us/step - loss: 0.1871 - binary_accuracy: 0.9249\n",
      "Epoch 64/100\n",
      "426/426 [==============================] - 0s 197us/step - loss: 0.2366 - binary_accuracy: 0.9155\n",
      "Epoch 65/100\n",
      "426/426 [==============================] - 0s 201us/step - loss: 0.2279 - binary_accuracy: 0.9225\n",
      "Epoch 66/100\n",
      "426/426 [==============================] - 0s 220us/step - loss: 0.2106 - binary_accuracy: 0.9343\n",
      "Epoch 67/100\n",
      "426/426 [==============================] - 0s 190us/step - loss: 0.2297 - binary_accuracy: 0.9272\n",
      "Epoch 68/100\n",
      "426/426 [==============================] - 0s 183us/step - loss: 0.1766 - binary_accuracy: 0.9319\n",
      "Epoch 69/100\n",
      "426/426 [==============================] - 0s 222us/step - loss: 0.2465 - binary_accuracy: 0.9108\n",
      "Epoch 70/100\n",
      "426/426 [==============================] - 0s 180us/step - loss: 0.2815 - binary_accuracy: 0.9038\n",
      "Epoch 71/100\n"
     ]
    },
    {
     "name": "stdout",
     "output_type": "stream",
     "text": [
      "426/426 [==============================] - 0s 194us/step - loss: 0.1897 - binary_accuracy: 0.9343\n",
      "Epoch 72/100\n",
      "426/426 [==============================] - 0s 234us/step - loss: 0.1865 - binary_accuracy: 0.9272\n",
      "Epoch 73/100\n",
      "426/426 [==============================] - 0s 215us/step - loss: 0.2151 - binary_accuracy: 0.9155\n",
      "Epoch 74/100\n",
      "426/426 [==============================] - 0s 241us/step - loss: 0.1714 - binary_accuracy: 0.9225\n",
      "Epoch 75/100\n",
      "426/426 [==============================] - 0s 236us/step - loss: 0.2767 - binary_accuracy: 0.9061\n",
      "Epoch 76/100\n",
      "426/426 [==============================] - 0s 225us/step - loss: 0.3368 - binary_accuracy: 0.9038\n",
      "Epoch 77/100\n",
      "426/426 [==============================] - 0s 243us/step - loss: 0.2933 - binary_accuracy: 0.9108\n",
      "Epoch 78/100\n",
      "426/426 [==============================] - 0s 204us/step - loss: 0.3510 - binary_accuracy: 0.8967\n",
      "Epoch 79/100\n",
      "426/426 [==============================] - 0s 220us/step - loss: 0.2925 - binary_accuracy: 0.9131\n",
      "Epoch 80/100\n",
      "426/426 [==============================] - 0s 227us/step - loss: 0.3420 - binary_accuracy: 0.8873\n",
      "Epoch 81/100\n",
      "426/426 [==============================] - 0s 225us/step - loss: 0.2478 - binary_accuracy: 0.9108\n",
      "Epoch 82/100\n",
      "426/426 [==============================] - 0s 183us/step - loss: 0.3015 - binary_accuracy: 0.9108\n",
      "Epoch 83/100\n",
      "426/426 [==============================] - 0s 186us/step - loss: 0.2426 - binary_accuracy: 0.9155\n",
      "Epoch 84/100\n",
      "426/426 [==============================] - 0s 236us/step - loss: 0.2836 - binary_accuracy: 0.8944\n",
      "Epoch 85/100\n",
      "426/426 [==============================] - 0s 197us/step - loss: 0.1974 - binary_accuracy: 0.9272\n",
      "Epoch 86/100\n",
      "426/426 [==============================] - 0s 234us/step - loss: 0.1667 - binary_accuracy: 0.9296\n",
      "Epoch 87/100\n",
      "426/426 [==============================] - 0s 234us/step - loss: 0.1684 - binary_accuracy: 0.9390\n",
      "Epoch 88/100\n",
      "426/426 [==============================] - 0s 222us/step - loss: 0.1927 - binary_accuracy: 0.9249\n",
      "Epoch 89/100\n",
      "426/426 [==============================] - 0s 169us/step - loss: 0.1691 - binary_accuracy: 0.9390\n",
      "Epoch 90/100\n",
      "426/426 [==============================] - 0s 196us/step - loss: 0.2371 - binary_accuracy: 0.8991\n",
      "Epoch 91/100\n",
      "426/426 [==============================] - 0s 232us/step - loss: 0.2080 - binary_accuracy: 0.9108\n",
      "Epoch 92/100\n",
      "426/426 [==============================] - 0s 220us/step - loss: 0.2733 - binary_accuracy: 0.9178\n",
      "Epoch 93/100\n",
      "426/426 [==============================] - 0s 206us/step - loss: 0.5227 - binary_accuracy: 0.8685\n",
      "Epoch 94/100\n",
      "426/426 [==============================] - 0s 206us/step - loss: 0.6246 - binary_accuracy: 0.8568\n",
      "Epoch 95/100\n",
      "426/426 [==============================] - 0s 227us/step - loss: 0.2659 - binary_accuracy: 0.9366\n",
      "Epoch 96/100\n",
      "426/426 [==============================] - 0s 183us/step - loss: 0.1927 - binary_accuracy: 0.9249\n",
      "Epoch 97/100\n",
      "426/426 [==============================] - 0s 236us/step - loss: 0.2023 - binary_accuracy: 0.9272\n",
      "Epoch 98/100\n",
      "426/426 [==============================] - 0s 214us/step - loss: 0.2185 - binary_accuracy: 0.9249\n",
      "Epoch 99/100\n",
      "426/426 [==============================] - 0s 190us/step - loss: 0.2230 - binary_accuracy: 0.9437\n",
      "Epoch 100/100\n",
      "426/426 [==============================] - 0s 199us/step - loss: 0.1558 - binary_accuracy: 0.9366\n"
     ]
    },
    {
     "data": {
      "text/plain": [
       "<keras.callbacks.callbacks.History at 0x1f52d6da550>"
      ]
     },
     "execution_count": 6,
     "metadata": {},
     "output_type": "execute_result"
    }
   ],
   "source": [
    "#treinando o classificador \n",
    "classificador.fit(X_train,y_train,batch_size=10,epochs=100)"
   ]
  },
  {
   "cell_type": "code",
   "execution_count": 7,
   "metadata": {},
   "outputs": [
    {
     "name": "stdout",
     "output_type": "stream",
     "text": [
      "[[9.8675597e-01]\n",
      " [9.7838473e-01]\n",
      " [9.4254923e-01]\n",
      " [9.9725580e-01]\n",
      " [7.7827376e-01]\n",
      " [9.9914539e-01]\n",
      " [4.6906671e-01]\n",
      " [9.9156392e-01]\n",
      " [2.4818736e-01]\n",
      " [9.3101406e-01]\n",
      " [1.2214053e-01]\n",
      " [6.8250859e-01]\n",
      " [9.9910402e-01]\n",
      " [1.2516975e-06]\n",
      " [2.6062131e-04]\n",
      " [1.7362833e-04]\n",
      " [1.0000000e+00]\n",
      " [4.5143563e-01]\n",
      " [1.1519194e-03]\n",
      " [9.7204417e-01]\n",
      " [9.9453580e-01]\n",
      " [5.2201772e-01]\n",
      " [1.4576316e-04]\n",
      " [9.8953629e-01]\n",
      " [9.9131244e-01]\n",
      " [3.5762787e-07]\n",
      " [2.0272279e-01]\n",
      " [9.9724245e-01]\n",
      " [2.8467035e-01]\n",
      " [9.1737634e-01]\n",
      " [1.5416172e-01]\n",
      " [2.3841858e-07]\n",
      " [1.2238741e-02]\n",
      " [0.0000000e+00]\n",
      " [9.9753106e-01]\n",
      " [5.7303905e-04]\n",
      " [0.0000000e+00]\n",
      " [9.8380214e-01]\n",
      " [9.9687135e-01]\n",
      " [9.9653184e-01]\n",
      " [0.0000000e+00]\n",
      " [9.9228060e-01]\n",
      " [9.4422841e-01]\n",
      " [9.9817431e-01]\n",
      " [8.9630014e-01]\n",
      " [1.9848725e-01]\n",
      " [9.9848557e-01]\n",
      " [9.8824489e-01]\n",
      " [0.0000000e+00]\n",
      " [8.7393421e-01]\n",
      " [1.4901161e-07]\n",
      " [6.5166777e-01]\n",
      " [4.0316582e-04]\n",
      " [1.7663836e-04]\n",
      " [9.9690485e-01]\n",
      " [5.4854316e-01]\n",
      " [9.9746829e-01]\n",
      " [1.4841855e-03]\n",
      " [0.0000000e+00]\n",
      " [1.6862133e-01]\n",
      " [9.6589053e-01]\n",
      " [1.0000000e+00]\n",
      " [9.8895836e-01]\n",
      " [1.0000000e+00]\n",
      " [9.4222444e-01]\n",
      " [9.0886152e-01]\n",
      " [1.0000000e+00]\n",
      " [0.0000000e+00]\n",
      " [8.1280470e-03]\n",
      " [9.9962497e-01]\n",
      " [9.9410343e-01]\n",
      " [9.8133582e-01]\n",
      " [0.0000000e+00]\n",
      " [9.3458867e-01]\n",
      " [9.8030949e-01]\n",
      " [9.9938822e-01]\n",
      " [2.0712614e-05]\n",
      " [0.0000000e+00]\n",
      " [1.4901161e-07]\n",
      " [9.9988878e-01]\n",
      " [4.4548512e-04]\n",
      " [9.5765072e-01]\n",
      " [9.9326003e-01]\n",
      " [1.6630062e-01]\n",
      " [9.8756188e-01]\n",
      " [9.9642766e-01]\n",
      " [7.9037315e-01]\n",
      " [9.0567207e-01]\n",
      " [2.3841858e-07]\n",
      " [8.8741171e-01]\n",
      " [9.7516930e-01]\n",
      " [9.9768603e-01]\n",
      " [9.8420131e-01]\n",
      " [9.9863338e-01]\n",
      " [9.9781334e-01]\n",
      " [9.9746573e-01]\n",
      " [9.9426967e-01]\n",
      " [6.4142048e-01]\n",
      " [9.9996638e-01]\n",
      " [0.0000000e+00]\n",
      " [9.8812437e-01]\n",
      " [3.2782555e-07]\n",
      " [8.7241197e-01]\n",
      " [9.9391717e-01]\n",
      " [9.9273109e-01]\n",
      " [1.0000000e+00]\n",
      " [9.7873795e-01]\n",
      " [1.0000000e+00]\n",
      " [9.9999809e-01]\n",
      " [1.1920929e-07]\n",
      " [0.0000000e+00]\n",
      " [9.9742925e-01]\n",
      " [9.9274373e-01]\n",
      " [1.0000000e+00]\n",
      " [3.2191598e-01]\n",
      " [9.9587417e-01]\n",
      " [9.9992466e-01]\n",
      " [0.0000000e+00]\n",
      " [1.1026859e-06]\n",
      " [3.6825687e-02]\n",
      " [9.9999791e-01]\n",
      " [9.5985281e-01]\n",
      " [9.8936713e-01]\n",
      " [7.5069880e-01]\n",
      " [1.0000000e+00]\n",
      " [9.7798663e-01]\n",
      " [2.0171475e-01]\n",
      " [1.0000000e+00]\n",
      " [9.9079812e-01]\n",
      " [7.7358294e-01]\n",
      " [9.9895215e-01]\n",
      " [5.0663948e-07]\n",
      " [0.0000000e+00]\n",
      " [4.7981739e-06]\n",
      " [0.0000000e+00]\n",
      " [8.0222589e-01]\n",
      " [9.1826260e-01]\n",
      " [3.9903884e-04]\n",
      " [9.9249226e-01]\n",
      " [9.3062180e-01]\n",
      " [1.0000000e+00]\n",
      " [1.0000000e+00]\n",
      " [6.6404074e-02]]\n"
     ]
    }
   ],
   "source": [
    "#como a função de saida foi a sigmoid a rede esta devolvendo a probabilidade de ser 0 ou 1\n",
    "previsoes = classificador.predict(X_test)\n",
    "print(previsoes)"
   ]
  },
  {
   "cell_type": "code",
   "execution_count": 57,
   "metadata": {},
   "outputs": [],
   "source": [
    "#transformando as probabilidades em 0 ou 1\n",
    "previsoes = previsoes>0.5"
   ]
  },
  {
   "cell_type": "markdown",
   "metadata": {},
   "source": [
    "### Metricas de avaliação do algoritimo ###"
   ]
  },
  {
   "cell_type": "code",
   "execution_count": 58,
   "metadata": {},
   "outputs": [
    {
     "name": "stdout",
     "output_type": "stream",
     "text": [
      "              precision    recall  f1-score   support\n",
      "\n",
      "           0       0.60      0.98      0.74        46\n",
      "           1       0.99      0.69      0.81        97\n",
      "\n",
      "    accuracy                           0.78       143\n",
      "   macro avg       0.79      0.83      0.78       143\n",
      "weighted avg       0.86      0.78      0.79       143\n",
      "\n"
     ]
    }
   ],
   "source": [
    "from sklearn.metrics import confusion_matrix,accuracy_score,classification_report\n",
    "accuracy=classification_report(y_test, previsoes)\n",
    "print(accuracy)\n"
   ]
  },
  {
   "cell_type": "code",
   "execution_count": 59,
   "metadata": {},
   "outputs": [
    {
     "name": "stdout",
     "output_type": "stream",
     "text": [
      "[[45  1]\n",
      " [30 67]]\n"
     ]
    }
   ],
   "source": [
    "confusion_matrix=confusion_matrix(y_test, previsoes)\n",
    "print(confusion_matrix)"
   ]
  },
  {
   "cell_type": "code",
   "execution_count": 60,
   "metadata": {},
   "outputs": [
    {
     "ename": "AttributeError",
     "evalue": "'KerasClassifier' object has no attribute 'evaluate'",
     "output_type": "error",
     "traceback": [
      "\u001b[1;31m---------------------------------------------------------------------------\u001b[0m",
      "\u001b[1;31mAttributeError\u001b[0m                            Traceback (most recent call last)",
      "\u001b[1;32m<ipython-input-60-b5845de175ba>\u001b[0m in \u001b[0;36m<module>\u001b[1;34m\u001b[0m\n\u001b[0;32m      1\u001b[0m \u001b[1;31m#avaliando as metricas com keras\u001b[0m\u001b[1;33m\u001b[0m\u001b[1;33m\u001b[0m\u001b[1;33m\u001b[0m\u001b[0m\n\u001b[1;32m----> 2\u001b[1;33m \u001b[0mclassificador\u001b[0m\u001b[1;33m.\u001b[0m\u001b[0mevaluate\u001b[0m\u001b[1;33m(\u001b[0m\u001b[0mX_test\u001b[0m\u001b[1;33m,\u001b[0m\u001b[0my_test\u001b[0m\u001b[1;33m)\u001b[0m\u001b[1;33m\u001b[0m\u001b[1;33m\u001b[0m\u001b[0m\n\u001b[0m",
      "\u001b[1;31mAttributeError\u001b[0m: 'KerasClassifier' object has no attribute 'evaluate'"
     ]
    }
   ],
   "source": [
    "#avaliando as metricas com keras\n",
    "classificador.evaluate(X_test,y_test)"
   ]
  },
  {
   "cell_type": "markdown",
   "metadata": {},
   "source": [
    "## Mais Camadas e os otimizadores ##\n",
    "Agora o objetivo e aumentar a acuracia alterando as camadas e manipulando os otimizadores para atualização dos pesos.\n"
   ]
  },
  {
   "cell_type": "code",
   "execution_count": null,
   "metadata": {},
   "outputs": [],
   "source": [
    "#adicionando mais uma camda oculta \n",
    "\n",
    "classificador = Sequential()\n",
    "\n",
    "classificador.add(Dense(units=16,activation='relu',\n",
    "kernel_initializer='random_uniform', input_dim=30\n",
    "))\n",
    "\n",
    "#nova camada\n",
    "classificador.add(Dense(units=16,activation='relu',\n",
    "kernel_initializer='random_uniform'\n",
    "))\n",
    "\n",
    "classificador.add(Dense(units=1, activation='sigmoid'))\n",
    "\n",
    "#funções de ativação link: https://keras.io/activations/"
   ]
  },
  {
   "cell_type": "code",
   "execution_count": null,
   "metadata": {},
   "outputs": [],
   "source": [
    "#criando um otimizador\n",
    "adam = keras.optimizers.Adam(learning_rate=0.001,decay=0.0001,clipvalue=0.5)\n",
    "#link: https://keras.io/optimizers/"
   ]
  },
  {
   "cell_type": "code",
   "execution_count": null,
   "metadata": {},
   "outputs": [],
   "source": [
    "#compilando e treinando novamente\n",
    "classificador.compile(optimizer=adam, loss='binary_crossentropy',metrics=['binary_accuracy'])\n",
    "classificador.fit(X_train,y_train,batch_size=10,epochs=100)"
   ]
  },
  {
   "cell_type": "code",
   "execution_count": null,
   "metadata": {},
   "outputs": [],
   "source": [
    "#avaliando as metricas com keras\n",
    "classificador.evaluate(X_test,y_test)"
   ]
  },
  {
   "cell_type": "code",
   "execution_count": null,
   "metadata": {},
   "outputs": [],
   "source": [
    "previsoes = classificador.predict(X_test)\n",
    "previsoes = previsoes>0.5\n",
    "print(classification_report(y_test, previsoes))"
   ]
  },
  {
   "cell_type": "code",
   "execution_count": null,
   "metadata": {},
   "outputs": [],
   "source": [
    "#visualizando os pesos da primeira camada\n",
    "pesos0 = classificador.layers[0].get_weights()\n",
    "pesos1 = classificador.layers[1].get_weights()\n",
    "pesos2 = classificador.layers[2].get_weights()\n",
    "\n",
    "print(f'pesos0: {len(pesos0),type(pesos0)} \\n pesos1: {len(pesos1),type(pesos1)} \\n pesos2: {len(pesos2),type(pesos2)}')"
   ]
  },
  {
   "cell_type": "code",
   "execution_count": null,
   "metadata": {},
   "outputs": [],
   "source": [
    "print(f'Pesos0:{pesos0[0].shape} \\n Pesos1:{pesos1[0].shape} \\n Pesos2:{pesos2[0].shape} ')"
   ]
  },
  {
   "cell_type": "code",
   "execution_count": null,
   "metadata": {},
   "outputs": [],
   "source": [
    "print(pesos1[0])"
   ]
  },
  {
   "cell_type": "code",
   "execution_count": null,
   "metadata": {},
   "outputs": [],
   "source": [
    "print(f'Unidade de Bias: \\n {pesos0[1]}')"
   ]
  },
  {
   "cell_type": "markdown",
   "metadata": {},
   "source": [
    "### É importante perceber a organização das entradas de cada neurônio por camada e seus pesos a partir dos valores acima. ###"
   ]
  },
  {
   "cell_type": "markdown",
   "metadata": {},
   "source": [
    "# k-fold cross validation # \n",
    "documentação: \n",
    "\n",
    "keras:https://keras.io/scikit-learn-api/\n",
    "\n",
    "sklearn:https://scikit-learn.org/stable/modules/cross_validation.html "
   ]
  },
  {
   "cell_type": "code",
   "execution_count": null,
   "metadata": {},
   "outputs": [],
   "source": [
    "#usando o keras classifier para classicar os dados através de uma função \n",
    "import keras\n",
    "from keras.wrappers.scikit_learn import KerasClassifier\n",
    "from sklearn.model_selection import cross_val_score\n",
    "\n",
    "def cria_rede():\n",
    "    classificador = Sequential()\n",
    "    classificador.add(Dense(units=16,activation='relu',\n",
    "    kernel_initializer='random_uniform', input_dim=30\n",
    "    ))\n",
    "    #nova camada\n",
    "    classificador.add(Dense(units=16,activation='relu',\n",
    "    kernel_initializer='random_uniform'\n",
    "    ))\n",
    "    #camada de saida\n",
    "    classificador.add(Dense(units=1, activation='sigmoid'))\n",
    "    adam = keras.optimizers.Adam(learning_rate=0.001,decay=0.0001,clipvalue=0.5)\n",
    "    classificador.compile(optimizer=adam, loss='binary_crossentropy',metrics=['binary_accuracy'])\n",
    "    \n",
    "    return classificador \n",
    "    "
   ]
  },
  {
   "cell_type": "code",
   "execution_count": null,
   "metadata": {},
   "outputs": [],
   "source": [
    "classificador = KerasClassifier(build_fn=cria_rede, epochs=100, batch_size=10)"
   ]
  },
  {
   "cell_type": "code",
   "execution_count": null,
   "metadata": {},
   "outputs": [],
   "source": [
    "scores = cross_val_score(classificador , df_input, df_output, cv=10, scoring= 'accuracy')\n",
    "#nesse caso o parametro scoring esta no default que é a acuracia"
   ]
  },
  {
   "cell_type": "code",
   "execution_count": null,
   "metadata": {},
   "outputs": [],
   "source": [
    "scores"
   ]
  },
  {
   "cell_type": "code",
   "execution_count": null,
   "metadata": {},
   "outputs": [],
   "source": [
    "print(f' media: {scores.mean()} e std:{scores.std()}')"
   ]
  },
  {
   "cell_type": "markdown",
   "metadata": {},
   "source": [
    "Nesse bloco apenas foi usada a classe kerasClassifier para treinar a rede fazendo o \"fitting\" dos dados por meio de uma rede construida em uma função, além da vaidação cruzada."
   ]
  },
  {
   "cell_type": "markdown",
   "metadata": {},
   "source": [
    "## Overfitting ##\n",
    "Acontece quando a rede se adapta demais a base de dados de treinamento gerando dessa forma um classificador com baixa generalização para os dados em questão.\n",
    "Uma tecnica para previnir o overfitting é o dropout, basicamente será escolhido aleatoriamente neuronios da camada de entrada para serem zerados."
   ]
  },
  {
   "cell_type": "code",
   "execution_count": null,
   "metadata": {},
   "outputs": [],
   "source": [
    "#reescrevendo a função de criação da rede e adicionando o dropout\n",
    "from keras.layers import Dropout\n",
    "\n",
    "def cria_rede_dropout():\n",
    "    classificador = Sequential()\n",
    "    classificador.add(Dense(units=16,activation='relu',\n",
    "    kernel_initializer='random_uniform', input_dim=30\n",
    "    ))\n",
    "    #adcionando Dropout a camada de entrada\n",
    "    classificador.add(Dropout(0.2))\n",
    "    #nova camada\n",
    "    classificador.add(Dense(units=16,activation='relu',\n",
    "    kernel_initializer='random_uniform'\n",
    "    ))\n",
    "      #adcionando Dropout a camada oculta\n",
    "    classificador.add(Dropout(0.2))\n",
    "    #camada de saida\n",
    "    classificador.add(Dense(units=1, activation='sigmoid'))\n",
    "    adam = keras.optimizers.Adam(learning_rate=0.001,decay=0.0001,clipvalue=0.5)\n",
    "    classificador.compile(optimizer=adam, loss='binary_crossentropy',metrics=['binary_accuracy'])\n",
    "    \n",
    "    return classificador \n"
   ]
  },
  {
   "cell_type": "code",
   "execution_count": null,
   "metadata": {},
   "outputs": [],
   "source": [
    "novo_classificador = KerasClassifier(build_fn=cria_rede_dropout, epochs=100, batch_size=10)\n",
    "novo_scores = cross_val_score(novo_classificador , df_input, df_output, cv=10, scoring= 'accuracy')"
   ]
  },
  {
   "cell_type": "code",
   "execution_count": 61,
   "metadata": {},
   "outputs": [
    {
     "data": {
      "text/plain": [
       "array([0.73684211, 0.84210526, 0.89473684, 0.78947368, 0.87719298,\n",
       "       0.89473684, 0.92982456, 0.92982456, 0.80701754, 0.92857143])"
      ]
     },
     "execution_count": 61,
     "metadata": {},
     "output_type": "execute_result"
    }
   ],
   "source": [
    "novo_scores"
   ]
  },
  {
   "cell_type": "code",
   "execution_count": 62,
   "metadata": {},
   "outputs": [
    {
     "name": "stdout",
     "output_type": "stream",
     "text": [
      " media: 0.8295112781954888 e std:0.04780044758870955\n"
     ]
    }
   ],
   "source": [
    "print(f' media: {scores.mean()} e std:{scores.std()}')"
   ]
  },
  {
   "cell_type": "markdown",
   "metadata": {},
   "source": [
    "Com o Dropout perceba que o desvio padrão e consequentemente as variância das acuracias é menor."
   ]
  },
  {
   "cell_type": "code",
   "execution_count": null,
   "metadata": {},
   "outputs": [],
   "source": []
  }
 ],
 "metadata": {
  "kernelspec": {
   "display_name": "Python 3",
   "language": "python",
   "name": "python3"
  },
  "language_info": {
   "codemirror_mode": {
    "name": "ipython",
    "version": 3
   },
   "file_extension": ".py",
   "mimetype": "text/x-python",
   "name": "python",
   "nbconvert_exporter": "python",
   "pygments_lexer": "ipython3",
   "version": "3.6.9"
  }
 },
 "nbformat": 4,
 "nbformat_minor": 2
}
